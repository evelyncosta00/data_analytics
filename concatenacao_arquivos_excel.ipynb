{
 "cells": [
  {
   "cell_type": "code",
   "execution_count": 1,
   "metadata": {},
   "outputs": [],
   "source": [
    "import pandas as pd\n",
    "import os\n",
    "import re\n",
    "import numpy as np"
   ]
  },
  {
   "cell_type": "code",
   "execution_count": null,
   "metadata": {},
   "outputs": [],
   "source": [
    "all_dfs = []\n",
    "\n",
    "\n",
    "ignore_words = ['Código', 'Ano/Período', 'Nome','Funcional','cpf','Titulacao','Titulação','Nome.1']\n",
    "\n",
    "\n",
    "for file in os.listdir():\n",
    "    \n",
    "    if file.startswith('~$'):\n",
    "        continue\n",
    "    if file.endswith('.xlsx') or file.endswith('.xls'):\n",
    "        \n",
    "        file_path = os.path.abspath(file)\n",
    "        \n",
    "        xls = pd.ExcelFile(file_path)\n",
    "        \n",
    "        for sheet_name in xls.sheet_names:\n",
    "            \n",
    "            first_line = pd.read_excel(file_path, sheet_name=sheet_name, nrows=1)\n",
    "           \n",
    "            skiprows = 1 if first_line.applymap(np.isreal).any().any() else 0\n",
    "           \n",
    "            df = pd.read_excel(file_path, sheet_name=sheet_name, skiprows=skiprows)\n",
    "            \n",
    "            df = df[~df.apply(lambda row: row.astype(str).str.contains('|'.join(ignore_words)).any(), axis=1)]\n",
    "           \n",
    "            df['SheetName'] = sheet_name\n",
    "            \n",
    "            if not sheet_name.isnumeric():\n",
    "                \n",
    "                numbers_in_title = re.findall(r'\\d+', file)\n",
    "                if numbers_in_title:\n",
    "                    df['NumberInTitle'] = numbers_in_title[0]\n",
    "            \n",
    "            all_dfs.append(df)"
   ]
  },
  {
   "cell_type": "code",
   "execution_count": 3,
   "metadata": {},
   "outputs": [],
   "source": [
    "\n",
    "geral_df = pd.concat(all_dfs)"
   ]
  },
  {
   "cell_type": "code",
   "execution_count": null,
   "metadata": {},
   "outputs": [],
   "source": [
    "geral_df.head(3)"
   ]
  },
  {
   "cell_type": "code",
   "execution_count": 5,
   "metadata": {},
   "outputs": [],
   "source": [
    "rename_columns = {'Disciplina': 'cod_disc', 'Unnamed: 1': 'ano/per','Coordenador/professor':'Nome','Unnamed: 3':'Funcional','Unnamed: 4':'cpf','Unnamed: 5':'Titulacao'}\n",
    "\n",
    "\n",
    "geral_df = geral_df.rename(columns=rename_columns)"
   ]
  },
  {
   "cell_type": "code",
   "execution_count": null,
   "metadata": {},
   "outputs": [],
   "source": [
    "geral_df.head()"
   ]
  },
  {
   "cell_type": "code",
   "execution_count": 7,
   "metadata": {},
   "outputs": [],
   "source": [
    "geral_df.to_excel('aquivo_final.xlsx',index = False)"
   ]
  }
 ],
 "metadata": {
  "kernelspec": {
   "display_name": "Python 3",
   "language": "python",
   "name": "python3"
  },
  "language_info": {
   "codemirror_mode": {
    "name": "ipython",
    "version": 3
   },
   "file_extension": ".py",
   "mimetype": "text/x-python",
   "name": "python",
   "nbconvert_exporter": "python",
   "pygments_lexer": "ipython3",
   "version": "3.11.7"
  }
 },
 "nbformat": 4,
 "nbformat_minor": 2
}
